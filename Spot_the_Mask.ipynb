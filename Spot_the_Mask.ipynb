{
 "cells": [
  {
   "cell_type": "markdown",
   "metadata": {
    "colab_type": "text",
    "id": "N_6px-H7YegN"
   },
   "source": [
    "<h1 style=\"text-align:center\"> <b>Image Classification using Transfer Learning in PyTorch <b/><h1>\n",
    "\n",
    "Face masks have become a common public sight in the last few months. The Centers for Disease Control (CDC) recently advised the use of simple cloth face coverings to slow the spread of the virus and help people who may have the virus and do not know it from transmitting it to others. Wearing masks is broadly recognised as critical to reducing community transmission and limiting touching of the face.\n",
    "\n",
    "In a time of concerns about slowing the transmission of COVID-19, increased surveillance combined with AI solutions can improve monitoring and reduce the human effort needed to limit the spread of this disease. The objective of this challenge is to create an image classification machine learning model to accurately predict the likelihood that an image contains a person wearing a face mask, or not. The total dataset contains 1,800+ images of people either wearing masks or not.\n",
    "\n",
    "Our machine learning solution will help policymakers, law enforcement, hospitals, and even commercial businesses ensure that masks are being worn appropriately in public. These solutions can help in the battle to reduce community transmission of COVID-19"
   ]
  },
  {
   "cell_type": "markdown",
   "metadata": {
    "colab_type": "text",
    "id": "1G4mQUePX0B9"
   },
   "source": [
    "<h2>Import librarys and modules</h2>"
   ]
  },
  {
   "cell_type": "code",
   "execution_count": 1,
   "metadata": {
    "colab": {},
    "colab_type": "code",
    "id": "S8oAf0-ccaFt"
   },
   "outputs": [],
   "source": [
    "import pandas as pd\n",
    "import numpy as np\n",
    "import torchvision\n",
    "import os\n",
    "from torchvision import transforms, utils\n",
    "from PIL import Image\n",
    "from torchvision.transforms import ToTensor\n",
    "from torch.autograd import Variable\n",
    "import torch\n",
    "import torch.nn.functional as F\n",
    "from torch.utils.data.sampler import SubsetRandomSampler\n",
    "import matplotlib.pyplot as plt\n",
    "import PIL \n",
    "from torch import nn\n",
    "import time\n",
    "import random\n",
    "from matplotlib import gridspec"
   ]
  },
  {
   "cell_type": "code",
   "execution_count": 2,
   "metadata": {
    "colab": {
     "base_uri": "https://localhost:8080/",
     "height": 70
    },
    "colab_type": "code",
    "id": "aMsmDd7GXSlM",
    "outputId": "cd864247-a373-42b4-8eba-6e2f5076ba8b"
   },
   "outputs": [
    {
     "name": "stdout",
     "output_type": "stream",
     "text": [
      "0.15.1+cu117\n",
      "2.0.0+cu117\n",
      "9.4.0\n"
     ]
    }
   ],
   "source": [
    "print(torchvision.__version__)\n",
    "print(torch.__version__)\n",
    "print(PIL.__version__)"
   ]
  },
  {
   "cell_type": "markdown",
   "metadata": {
    "colab_type": "text",
    "id": "8b1P_PgxWlIf"
   },
   "source": [
    "<h2>Set a seed for the random initialization of weights provided by the nn module</h2>"
   ]
  },
  {
   "cell_type": "code",
   "execution_count": 4,
   "metadata": {
    "colab": {},
    "colab_type": "code",
    "id": "ue5h9XweJZf8"
   },
   "outputs": [],
   "source": [
    "manualSeed = 1\n",
    "random_seed= 42\n",
    "np.random.seed(manualSeed)\n",
    "random.seed(manualSeed)\n",
    "torch.manual_seed(manualSeed)\n",
    "# if you are suing GPU\n",
    "torch.cuda.manual_seed(manualSeed)\n",
    "torch.cuda.manual_seed_all(manualSeed)\n",
    "\n",
    "\n",
    "torch.backends.cudnn.enabled = False \n",
    "torch.backends.cudnn.benchmark = False\n",
    "torch.backends.cudnn.deterministic = True"
   ]
  },
  {
   "cell_type": "markdown",
   "metadata": {
    "colab_type": "text",
    "id": "UH7zMLNdVrsh"
   },
   "source": [
    "<h2>Download Data</h2>"
   ]
  },
  {
   "cell_type": "code",
   "execution_count": null,
   "metadata": {
    "colab": {},
    "colab_type": "code",
    "id": "T3In-LJ0aaph"
   },
   "outputs": [],
   "source": [
    "!wget -O images.zip --load-cookies /tmp/cookies.txt \"https://docs.google.com/uc?export=download&confirm=$(wget --quiet --save-cookies /tmp/cookies.txt --keep-session-cookies --no-check-certificate 'https://docs.google.com/uc?export=download&id=1vtO5_FB--urbF09XYoxbSAEQW-yqwoi6' -O- | sed -rn 's/.*confirm=([0-9A-Za-z_]+).*/\\1\\n/p')&id=1vtO5_FB--urbF09XYoxbSAEQW-yqwoi6\" && rm -rf /tmp/cookies.txt"
   ]
  },
  {
   "cell_type": "code",
   "execution_count": null,
   "metadata": {
    "colab": {},
    "colab_type": "code",
    "id": "S22vySq0enat"
   },
   "outputs": [],
   "source": [
    "!wget -O train.csv --load-cookies /tmp/cookies.txt \"https://docs.google.com/uc?export=download&confirm=$(wget --quiet --save-cookies /tmp/cookies.txt --keep-session-cookies --no-check-certificate 'https://docs.google.com/uc?export=download&id=1XQ-RfUG1C_6LUZdRUe9nAU77I_AZFH-F' -O- | sed -rn 's/.*confirm=([0-9A-Za-z_]+).*/\\1\\n/p')&id=1XQ-RfUG1C_6LUZdRUe9nAU77I_AZFH-F\" && rm -rf /tmp/cookies.txt"
   ]
  },
  {
   "cell_type": "code",
   "execution_count": null,
   "metadata": {
    "colab": {},
    "colab_type": "code",
    "id": "P1CgETJjbu78"
   },
   "outputs": [],
   "source": [
    "!unzip '/content/images.zip'"
   ]
  },
  {
   "cell_type": "code",
   "execution_count": 5,
   "metadata": {
    "colab": {},
    "colab_type": "code",
    "id": "_glTDHDgxmKb"
   },
   "outputs": [],
   "source": [
    "train = pd.read_csv('./train_labels.csv')\n",
    "\n",
    "train_images_list = train['image'].tolist()\n",
    "\n",
    "images_list = os.listdir('./images')\n",
    "\n",
    "test_images_list = [fn for fn in images_list if fn not in train_images_list]\n"
   ]
  },
  {
   "cell_type": "code",
   "execution_count": 6,
   "metadata": {
    "colab": {},
    "colab_type": "code",
    "id": "0s80BSyxKCDk"
   },
   "outputs": [],
   "source": [
    "image_transform=transforms.Compose([\n",
    "        transforms.Resize(size=256),\n",
    "        transforms.CenterCrop(size=224),\n",
    "        transforms.ToTensor(),\n",
    "        transforms.Normalize([0.485, 0.456, 0.406],\n",
    "                             [0.229, 0.224, 0.225])\n",
    "    ])"
   ]
  },
  {
   "cell_type": "markdown",
   "metadata": {
    "colab_type": "text",
    "id": "TdyaNpgUtUeb"
   },
   "source": [
    "<h2>Create Test images DateFrame</h2>"
   ]
  },
  {
   "cell_type": "code",
   "execution_count": 7,
   "metadata": {
    "colab": {},
    "colab_type": "code",
    "id": "cfFiNmT8Kl0_"
   },
   "outputs": [],
   "source": [
    "sub=pd.DataFrame({\n",
    "    'image':test_images_list,\n",
    "     'target':0\n",
    "})\n"
   ]
  },
  {
   "cell_type": "markdown",
   "metadata": {
    "colab_type": "text",
    "id": "6wduheB_UFe3"
   },
   "source": [
    "<h2>Transform both train and validation Images</h2>"
   ]
  },
  {
   "cell_type": "code",
   "execution_count": 8,
   "metadata": {
    "colab": {},
    "colab_type": "code",
    "id": "5KzLfcyiB2Rj"
   },
   "outputs": [],
   "source": [
    "train_img=[]\n",
    "ref = pd.read_csv('./train_labels.csv')\n",
    "\n",
    "for i in range(0,ref.shape[0]) :\n",
    "   img_path=\"./images/\"+str(ref.iloc[i,:].image)\n",
    "   image = Image.open(img_path).convert('RGB')\n",
    "   image=image_transform(image)\n",
    "   train_img.append((image,ref.iloc[i,:].target))"
   ]
  },
  {
   "cell_type": "markdown",
   "metadata": {
    "colab_type": "text",
    "id": "x7LXiQW5TN_P"
   },
   "source": [
    "<h2>Download Pre-trained ResNet50 model</h2>"
   ]
  },
  {
   "cell_type": "code",
   "execution_count": 19,
   "metadata": {
    "colab": {},
    "colab_type": "code",
    "id": "NXCfIzB2FCHU"
   },
   "outputs": [],
   "source": [
    "resnet50 = torchvision.models.resnet50(pretrained=True)\n"
   ]
  },
  {
   "cell_type": "markdown",
   "metadata": {
    "colab_type": "text",
    "id": "_OKrCvjWTGel"
   },
   "source": [
    "<h2> Don't Freeze model parameters</h2>"
   ]
  },
  {
   "cell_type": "code",
   "execution_count": 20,
   "metadata": {
    "colab": {},
    "colab_type": "code",
    "id": "jSB2W4K4F8W6"
   },
   "outputs": [],
   "source": [
    "\n",
    "for param in resnet50.parameters():\n",
    "    param.requires_grad = True"
   ]
  },
  {
   "cell_type": "markdown",
   "metadata": {
    "colab_type": "text",
    "id": "emRT9JOKR9zg"
   },
   "source": [
    "<h4>Replace the final layer of the ResNet50 model by a small set of Sequential layers. The inputs to the last fully connected layer of ResNet50 is fed to a Linear layer which has 128 outputs, which are then fed into ReLU and Dropout layers. It is then followed by a 128×2 Linear Layer which has 2 outputs corresponding to the 2 classes (mask , without mask).</h4>"
   ]
  },
  {
   "cell_type": "code",
   "execution_count": 21,
   "metadata": {
    "colab": {},
    "colab_type": "code",
    "id": "FdHunrgOGAUt"
   },
   "outputs": [],
   "source": [
    "\n",
    "fc_inputs = resnet50.fc.in_features\n",
    " \n",
    "resnet50.fc = nn.Sequential(\n",
    "    nn.Linear(fc_inputs, 128),\n",
    "    nn.ReLU(inplace=True),\n",
    "    nn.Dropout(0.5),\n",
    "    nn.Linear(128,2),\n",
    "    nn.LogSoftmax(dim=1) # For using NLLLoss()\n",
    ")\n"
   ]
  },
  {
   "cell_type": "code",
   "execution_count": 22,
   "metadata": {
    "colab": {},
    "colab_type": "code",
    "id": "KiZz9eWtGPKL"
   },
   "outputs": [],
   "source": [
    "model = resnet50.to('cpu') \n"
   ]
  },
  {
   "cell_type": "markdown",
   "metadata": {
    "colab_type": "text",
    "id": "K3pSkfz2RUSY"
   },
   "source": [
    "<h2>Define Optimizer and Loss Function</h2>"
   ]
  },
  {
   "cell_type": "code",
   "execution_count": 33,
   "metadata": {
    "colab": {},
    "colab_type": "code",
    "id": "XKBoHY74K0r5"
   },
   "outputs": [],
   "source": [
    "#we have reduced the learning rate to avoid overfitting\n",
    "loss_func = nn.NLLLoss()\n",
    "optimizer =torch.optim.Adam(model.parameters(), lr=0.000099)\n"
   ]
  },
  {
   "cell_type": "markdown",
   "metadata": {
    "colab_type": "text",
    "id": "IiWqVWrdROz4"
   },
   "source": [
    "<h2>Creating data indices for training and validation splits</h2>"
   ]
  },
  {
   "cell_type": "code",
   "execution_count": 34,
   "metadata": {
    "colab": {},
    "colab_type": "code",
    "id": "eOH3aG7v4taK"
   },
   "outputs": [],
   "source": [
    "\n",
    "batch_size = 32\n",
    "validation_split = .0\n",
    "shuffle_dataset = True\n",
    "random_seed= 42\n",
    "dataset_size = len(train_img)\n",
    "indices = list(range(dataset_size))\n",
    "split = int(np.floor(validation_split * dataset_size))\n",
    "if shuffle_dataset :\n",
    "    np.random.seed(random_seed)\n",
    "    np.random.shuffle(indices)\n",
    "train_indices, val_indices = indices[split:], indices[:split]\n",
    "\n",
    "# Creating PT data samplers and loaders:\n",
    "train_sampler = SubsetRandomSampler(train_indices)\n",
    "valid_sampler = SubsetRandomSampler(val_indices)\n",
    "\n",
    "train_loader = torch.utils.data.DataLoader(train_img, batch_size=batch_size, \n",
    "                                           sampler=train_sampler)\n",
    "\n",
    "validation_loader = torch.utils.data.DataLoader(train_img, batch_size=batch_size,\n",
    "                                                sampler=valid_sampler)"
   ]
  },
  {
   "cell_type": "code",
   "execution_count": 35,
   "metadata": {
    "colab": {},
    "colab_type": "code",
    "id": "I8L8QD1VMky7"
   },
   "outputs": [],
   "source": [
    "device = torch.device(\"cpu\")"
   ]
  },
  {
   "cell_type": "markdown",
   "metadata": {
    "colab_type": "text",
    "id": "kMUInv_JtK1G"
   },
   "source": [
    "<H2>Train<h2>"
   ]
  },
  {
   "cell_type": "code",
   "execution_count": 36,
   "metadata": {
    "colab": {
     "base_uri": "https://localhost:8080/",
     "height": 1000
    },
    "colab_type": "code",
    "id": "MwNHVZHlHC2o",
    "outputId": "e64f26dd-bf91-4459-c189-b9914ed59e29"
   },
   "outputs": [
    {
     "name": "stdout",
     "output_type": "stream",
     "text": [
      "Epoch: 1/5\n",
      "Batch number: 000, Training: Loss: 0.71856731, Accuracy: 0.50000000\n",
      "Batch number: 001, Training: Loss: 0.67792588, Accuracy: 0.50000000\n",
      "Batch number: 002, Training: Loss: 0.62004030, Accuracy: 0.75000000\n",
      "Batch number: 003, Training: Loss: 0.60241359, Accuracy: 0.78125000\n",
      "Batch number: 004, Training: Loss: 0.56288576, Accuracy: 0.81250000\n",
      "Batch number: 005, Training: Loss: 0.52642846, Accuracy: 0.81250000\n",
      "Batch number: 006, Training: Loss: 0.50113016, Accuracy: 0.84375000\n",
      "Batch number: 007, Training: Loss: 0.43169802, Accuracy: 0.90625000\n",
      "Batch number: 008, Training: Loss: 0.43047649, Accuracy: 0.90625000\n",
      "Batch number: 009, Training: Loss: 0.34210378, Accuracy: 0.93750000\n",
      "Batch number: 010, Training: Loss: 0.30509290, Accuracy: 0.93750000\n",
      "Batch number: 011, Training: Loss: 0.34529108, Accuracy: 0.81250000\n",
      "Batch number: 012, Training: Loss: 0.25597644, Accuracy: 0.96875000\n",
      "Batch number: 013, Training: Loss: 0.18932751, Accuracy: 1.00000000\n",
      "Batch number: 014, Training: Loss: 0.17547004, Accuracy: 1.00000000\n",
      "Batch number: 015, Training: Loss: 0.17163095, Accuracy: 0.96875000\n",
      "Batch number: 016, Training: Loss: 0.21526147, Accuracy: 0.96875000\n",
      "Batch number: 017, Training: Loss: 0.19588514, Accuracy: 0.90625000\n",
      "Batch number: 018, Training: Loss: 0.11450165, Accuracy: 0.96875000\n",
      "Batch number: 019, Training: Loss: 0.17060061, Accuracy: 0.93750000\n",
      "Batch number: 020, Training: Loss: 0.05715289, Accuracy: 1.00000000\n",
      "Batch number: 021, Training: Loss: 0.18786842, Accuracy: 0.93750000\n",
      "Batch number: 022, Training: Loss: 0.11843339, Accuracy: 0.93750000\n",
      "Batch number: 023, Training: Loss: 0.27482554, Accuracy: 0.90625000\n",
      "Batch number: 024, Training: Loss: 0.24793275, Accuracy: 0.93750000\n",
      "Batch number: 025, Training: Loss: 0.17041077, Accuracy: 0.96875000\n",
      "Batch number: 026, Training: Loss: 0.12243984, Accuracy: 0.96875000\n",
      "Batch number: 027, Training: Loss: 0.08513930, Accuracy: 0.96875000\n",
      "Batch number: 028, Training: Loss: 0.14726390, Accuracy: 0.96875000\n",
      "Batch number: 029, Training: Loss: 0.24847537, Accuracy: 0.93750000\n",
      "Batch number: 030, Training: Loss: 0.09303853, Accuracy: 0.96875000\n",
      "Batch number: 031, Training: Loss: 0.21152653, Accuracy: 0.93750000\n",
      "Batch number: 032, Training: Loss: 0.07995695, Accuracy: 0.96875000\n",
      "Batch number: 033, Training: Loss: 0.05900449, Accuracy: 0.96875000\n",
      "Batch number: 034, Training: Loss: 0.18420899, Accuracy: 0.96875000\n",
      "Batch number: 035, Training: Loss: 0.07424670, Accuracy: 0.96875000\n",
      "Batch number: 036, Training: Loss: 0.02731322, Accuracy: 1.00000000\n",
      "Batch number: 037, Training: Loss: 0.12598434, Accuracy: 0.96875000\n",
      "Batch number: 038, Training: Loss: 0.13832536, Accuracy: 0.96875000\n",
      "Batch number: 039, Training: Loss: 0.08937216, Accuracy: 0.96875000\n",
      "Batch number: 040, Training: Loss: 0.07068087, Accuracy: 0.96428573\n",
      "Epoch: 2/5\n",
      "Batch number: 000, Training: Loss: 0.04084725, Accuracy: 1.00000000\n",
      "Batch number: 001, Training: Loss: 0.06260520, Accuracy: 0.96875000\n",
      "Batch number: 002, Training: Loss: 0.05385292, Accuracy: 0.96875000\n",
      "Batch number: 003, Training: Loss: 0.02455096, Accuracy: 1.00000000\n",
      "Batch number: 004, Training: Loss: 0.02139768, Accuracy: 1.00000000\n",
      "Batch number: 005, Training: Loss: 0.03657152, Accuracy: 1.00000000\n",
      "Batch number: 006, Training: Loss: 0.02529848, Accuracy: 1.00000000\n",
      "Batch number: 007, Training: Loss: 0.02116535, Accuracy: 1.00000000\n",
      "Batch number: 008, Training: Loss: 0.02650523, Accuracy: 1.00000000\n",
      "Batch number: 009, Training: Loss: 0.02140973, Accuracy: 1.00000000\n",
      "Batch number: 010, Training: Loss: 0.02871866, Accuracy: 1.00000000\n",
      "Batch number: 011, Training: Loss: 0.02093407, Accuracy: 1.00000000\n",
      "Batch number: 012, Training: Loss: 0.01342503, Accuracy: 1.00000000\n",
      "Batch number: 013, Training: Loss: 0.02469206, Accuracy: 1.00000000\n",
      "Batch number: 014, Training: Loss: 0.01117309, Accuracy: 1.00000000\n",
      "Batch number: 015, Training: Loss: 0.01229764, Accuracy: 1.00000000\n",
      "Batch number: 016, Training: Loss: 0.01904976, Accuracy: 1.00000000\n",
      "Batch number: 017, Training: Loss: 0.02140054, Accuracy: 1.00000000\n",
      "Batch number: 018, Training: Loss: 0.01746633, Accuracy: 1.00000000\n",
      "Batch number: 019, Training: Loss: 0.00874070, Accuracy: 1.00000000\n",
      "Batch number: 020, Training: Loss: 0.01704407, Accuracy: 1.00000000\n",
      "Batch number: 021, Training: Loss: 0.01763094, Accuracy: 1.00000000\n",
      "Batch number: 022, Training: Loss: 0.01284935, Accuracy: 1.00000000\n",
      "Batch number: 023, Training: Loss: 0.01279328, Accuracy: 1.00000000\n",
      "Batch number: 024, Training: Loss: 0.02962933, Accuracy: 1.00000000\n",
      "Batch number: 025, Training: Loss: 0.00769016, Accuracy: 1.00000000\n",
      "Batch number: 026, Training: Loss: 0.01371139, Accuracy: 1.00000000\n",
      "Batch number: 027, Training: Loss: 0.07946101, Accuracy: 0.96875000\n",
      "Batch number: 028, Training: Loss: 0.00612028, Accuracy: 1.00000000\n",
      "Batch number: 029, Training: Loss: 0.04744750, Accuracy: 0.96875000\n",
      "Batch number: 030, Training: Loss: 0.00939719, Accuracy: 1.00000000\n",
      "Batch number: 031, Training: Loss: 0.04581095, Accuracy: 0.96875000\n",
      "Batch number: 032, Training: Loss: 0.04526931, Accuracy: 0.96875000\n",
      "Batch number: 033, Training: Loss: 0.03062532, Accuracy: 1.00000000\n",
      "Batch number: 034, Training: Loss: 0.01156518, Accuracy: 1.00000000\n",
      "Batch number: 035, Training: Loss: 0.01290761, Accuracy: 1.00000000\n",
      "Batch number: 036, Training: Loss: 0.00831034, Accuracy: 1.00000000\n",
      "Batch number: 037, Training: Loss: 0.01471429, Accuracy: 1.00000000\n",
      "Batch number: 038, Training: Loss: 0.00400663, Accuracy: 1.00000000\n",
      "Batch number: 039, Training: Loss: 0.01180679, Accuracy: 1.00000000\n",
      "Batch number: 040, Training: Loss: 0.01828420, Accuracy: 1.00000000\n",
      "Epoch: 3/5\n",
      "Batch number: 000, Training: Loss: 0.04812094, Accuracy: 0.96875000\n",
      "Batch number: 001, Training: Loss: 0.00461028, Accuracy: 1.00000000\n",
      "Batch number: 002, Training: Loss: 0.00445847, Accuracy: 1.00000000\n",
      "Batch number: 003, Training: Loss: 0.00290434, Accuracy: 1.00000000\n",
      "Batch number: 004, Training: Loss: 0.01126732, Accuracy: 1.00000000\n",
      "Batch number: 005, Training: Loss: 0.01604560, Accuracy: 1.00000000\n",
      "Batch number: 006, Training: Loss: 0.00487660, Accuracy: 1.00000000\n",
      "Batch number: 007, Training: Loss: 0.00957205, Accuracy: 1.00000000\n",
      "Batch number: 008, Training: Loss: 0.02708477, Accuracy: 1.00000000\n",
      "Batch number: 009, Training: Loss: 0.03122646, Accuracy: 0.96875000\n",
      "Batch number: 010, Training: Loss: 0.03408460, Accuracy: 0.96875000\n",
      "Batch number: 011, Training: Loss: 0.04182995, Accuracy: 1.00000000\n",
      "Batch number: 012, Training: Loss: 0.01285871, Accuracy: 1.00000000\n",
      "Batch number: 013, Training: Loss: 0.00807066, Accuracy: 1.00000000\n",
      "Batch number: 014, Training: Loss: 0.00240849, Accuracy: 1.00000000\n",
      "Batch number: 015, Training: Loss: 0.11263458, Accuracy: 0.96875000\n",
      "Batch number: 016, Training: Loss: 0.01623638, Accuracy: 1.00000000\n",
      "Batch number: 017, Training: Loss: 0.05447740, Accuracy: 0.96875000\n",
      "Batch number: 018, Training: Loss: 0.00732036, Accuracy: 1.00000000\n",
      "Batch number: 019, Training: Loss: 0.01057631, Accuracy: 1.00000000\n",
      "Batch number: 020, Training: Loss: 0.07273914, Accuracy: 0.93750000\n",
      "Batch number: 021, Training: Loss: 0.11027163, Accuracy: 0.93750000\n",
      "Batch number: 022, Training: Loss: 0.01015570, Accuracy: 1.00000000\n",
      "Batch number: 023, Training: Loss: 0.01069885, Accuracy: 1.00000000\n",
      "Batch number: 024, Training: Loss: 0.06423504, Accuracy: 0.96875000\n",
      "Batch number: 025, Training: Loss: 0.06369370, Accuracy: 0.96875000\n",
      "Batch number: 026, Training: Loss: 0.08704712, Accuracy: 0.96875000\n",
      "Batch number: 027, Training: Loss: 0.03895302, Accuracy: 0.96875000\n",
      "Batch number: 028, Training: Loss: 0.13245183, Accuracy: 0.96875000\n",
      "Batch number: 029, Training: Loss: 0.01384920, Accuracy: 1.00000000\n",
      "Batch number: 030, Training: Loss: 0.03324429, Accuracy: 1.00000000\n",
      "Batch number: 031, Training: Loss: 0.00651625, Accuracy: 1.00000000\n",
      "Batch number: 032, Training: Loss: 0.00491431, Accuracy: 1.00000000\n",
      "Batch number: 033, Training: Loss: 0.01983763, Accuracy: 1.00000000\n",
      "Batch number: 034, Training: Loss: 0.09869885, Accuracy: 0.96875000\n",
      "Batch number: 035, Training: Loss: 0.00857070, Accuracy: 1.00000000\n",
      "Batch number: 036, Training: Loss: 0.03262314, Accuracy: 1.00000000\n",
      "Batch number: 037, Training: Loss: 0.05947032, Accuracy: 0.96875000\n"
     ]
    },
    {
     "name": "stdout",
     "output_type": "stream",
     "text": [
      "Batch number: 038, Training: Loss: 0.09316438, Accuracy: 0.96875000\n",
      "Batch number: 039, Training: Loss: 0.00923903, Accuracy: 1.00000000\n",
      "Batch number: 040, Training: Loss: 0.00795466, Accuracy: 1.00000000\n",
      "Epoch: 4/5\n",
      "Batch number: 000, Training: Loss: 0.00793010, Accuracy: 1.00000000\n",
      "Batch number: 001, Training: Loss: 0.00976410, Accuracy: 1.00000000\n",
      "Batch number: 002, Training: Loss: 0.00421497, Accuracy: 1.00000000\n",
      "Batch number: 003, Training: Loss: 0.00837757, Accuracy: 1.00000000\n",
      "Batch number: 004, Training: Loss: 0.00258501, Accuracy: 1.00000000\n",
      "Batch number: 005, Training: Loss: 0.00566318, Accuracy: 1.00000000\n",
      "Batch number: 006, Training: Loss: 0.01958037, Accuracy: 1.00000000\n",
      "Batch number: 007, Training: Loss: 0.01570089, Accuracy: 1.00000000\n",
      "Batch number: 008, Training: Loss: 0.01458666, Accuracy: 1.00000000\n",
      "Batch number: 009, Training: Loss: 0.01974454, Accuracy: 1.00000000\n",
      "Batch number: 010, Training: Loss: 0.01269445, Accuracy: 1.00000000\n",
      "Batch number: 011, Training: Loss: 0.05080501, Accuracy: 1.00000000\n",
      "Batch number: 012, Training: Loss: 0.01158344, Accuracy: 1.00000000\n",
      "Batch number: 013, Training: Loss: 0.00890481, Accuracy: 1.00000000\n",
      "Batch number: 014, Training: Loss: 0.00608986, Accuracy: 1.00000000\n",
      "Batch number: 015, Training: Loss: 0.00433260, Accuracy: 1.00000000\n",
      "Batch number: 016, Training: Loss: 0.01614515, Accuracy: 1.00000000\n",
      "Batch number: 017, Training: Loss: 0.00510930, Accuracy: 1.00000000\n",
      "Batch number: 018, Training: Loss: 0.00391893, Accuracy: 1.00000000\n",
      "Batch number: 019, Training: Loss: 0.00778688, Accuracy: 1.00000000\n",
      "Batch number: 020, Training: Loss: 0.03439521, Accuracy: 0.96875000\n",
      "Batch number: 021, Training: Loss: 0.00411367, Accuracy: 1.00000000\n",
      "Batch number: 022, Training: Loss: 0.02466810, Accuracy: 1.00000000\n",
      "Batch number: 023, Training: Loss: 0.00194808, Accuracy: 1.00000000\n",
      "Batch number: 024, Training: Loss: 0.00300656, Accuracy: 1.00000000\n",
      "Batch number: 025, Training: Loss: 0.00494883, Accuracy: 1.00000000\n",
      "Batch number: 026, Training: Loss: 0.00310682, Accuracy: 1.00000000\n",
      "Batch number: 027, Training: Loss: 0.00342887, Accuracy: 1.00000000\n",
      "Batch number: 028, Training: Loss: 0.00166275, Accuracy: 1.00000000\n",
      "Batch number: 029, Training: Loss: 0.00356696, Accuracy: 1.00000000\n",
      "Batch number: 030, Training: Loss: 0.00929319, Accuracy: 1.00000000\n",
      "Batch number: 031, Training: Loss: 0.00381911, Accuracy: 1.00000000\n",
      "Batch number: 032, Training: Loss: 0.00168346, Accuracy: 1.00000000\n",
      "Batch number: 033, Training: Loss: 0.00713805, Accuracy: 1.00000000\n",
      "Batch number: 034, Training: Loss: 0.00269400, Accuracy: 1.00000000\n",
      "Batch number: 035, Training: Loss: 0.00437164, Accuracy: 1.00000000\n",
      "Batch number: 036, Training: Loss: 0.00275852, Accuracy: 1.00000000\n",
      "Batch number: 037, Training: Loss: 0.00366468, Accuracy: 1.00000000\n",
      "Batch number: 038, Training: Loss: 0.00699993, Accuracy: 1.00000000\n",
      "Batch number: 039, Training: Loss: 0.01141033, Accuracy: 1.00000000\n",
      "Batch number: 040, Training: Loss: 0.00390153, Accuracy: 1.00000000\n",
      "Epoch: 5/5\n",
      "Batch number: 000, Training: Loss: 0.00203603, Accuracy: 1.00000000\n",
      "Batch number: 001, Training: Loss: 0.00469291, Accuracy: 1.00000000\n",
      "Batch number: 002, Training: Loss: 0.00217307, Accuracy: 1.00000000\n",
      "Batch number: 003, Training: Loss: 0.00379589, Accuracy: 1.00000000\n",
      "Batch number: 004, Training: Loss: 0.00095342, Accuracy: 1.00000000\n",
      "Batch number: 005, Training: Loss: 0.00122740, Accuracy: 1.00000000\n",
      "Batch number: 006, Training: Loss: 0.00143505, Accuracy: 1.00000000\n",
      "Batch number: 007, Training: Loss: 0.00161864, Accuracy: 1.00000000\n",
      "Batch number: 008, Training: Loss: 0.00064069, Accuracy: 1.00000000\n",
      "Batch number: 009, Training: Loss: 0.00051710, Accuracy: 1.00000000\n",
      "Batch number: 010, Training: Loss: 0.00155053, Accuracy: 1.00000000\n",
      "Batch number: 011, Training: Loss: 0.00250568, Accuracy: 1.00000000\n",
      "Batch number: 012, Training: Loss: 0.00592208, Accuracy: 1.00000000\n",
      "Batch number: 013, Training: Loss: 0.00130731, Accuracy: 1.00000000\n",
      "Batch number: 014, Training: Loss: 0.00227582, Accuracy: 1.00000000\n",
      "Batch number: 015, Training: Loss: 0.00077312, Accuracy: 1.00000000\n",
      "Batch number: 016, Training: Loss: 0.00195117, Accuracy: 1.00000000\n",
      "Batch number: 017, Training: Loss: 0.00172835, Accuracy: 1.00000000\n",
      "Batch number: 018, Training: Loss: 0.00314569, Accuracy: 1.00000000\n",
      "Batch number: 019, Training: Loss: 0.00169591, Accuracy: 1.00000000\n",
      "Batch number: 020, Training: Loss: 0.00182286, Accuracy: 1.00000000\n",
      "Batch number: 021, Training: Loss: 0.00175187, Accuracy: 1.00000000\n",
      "Batch number: 022, Training: Loss: 0.00393456, Accuracy: 1.00000000\n",
      "Batch number: 023, Training: Loss: 0.00265214, Accuracy: 1.00000000\n",
      "Batch number: 024, Training: Loss: 0.00586940, Accuracy: 1.00000000\n",
      "Batch number: 025, Training: Loss: 0.00259174, Accuracy: 1.00000000\n",
      "Batch number: 026, Training: Loss: 0.00226172, Accuracy: 1.00000000\n",
      "Batch number: 027, Training: Loss: 0.00038601, Accuracy: 1.00000000\n",
      "Batch number: 028, Training: Loss: 0.00056332, Accuracy: 1.00000000\n",
      "Batch number: 029, Training: Loss: 0.00175771, Accuracy: 1.00000000\n",
      "Batch number: 030, Training: Loss: 0.00103145, Accuracy: 1.00000000\n",
      "Batch number: 031, Training: Loss: 0.00087003, Accuracy: 1.00000000\n",
      "Batch number: 032, Training: Loss: 0.00103498, Accuracy: 1.00000000\n",
      "Batch number: 033, Training: Loss: 0.00122426, Accuracy: 1.00000000\n",
      "Batch number: 034, Training: Loss: 0.00249549, Accuracy: 1.00000000\n",
      "Batch number: 035, Training: Loss: 0.00167192, Accuracy: 1.00000000\n",
      "Batch number: 036, Training: Loss: 0.00115201, Accuracy: 1.00000000\n",
      "Batch number: 037, Training: Loss: 0.00123793, Accuracy: 1.00000000\n",
      "Batch number: 038, Training: Loss: 0.00084821, Accuracy: 1.00000000\n",
      "Batch number: 039, Training: Loss: 0.00253191, Accuracy: 1.00000000\n",
      "Batch number: 040, Training: Loss: 0.00316691, Accuracy: 1.00000000\n"
     ]
    }
   ],
   "source": [
    "epochs=5                           \n",
    "\n",
    "for epoch in range(epochs):\n",
    "\n",
    "    epoch_start = time.time()\n",
    "    print(\"Epoch: {}/{}\".format(epoch+1, epochs))\n",
    "    # Set to training mode\n",
    "    model.train()\n",
    "     \n",
    "    # Loss and Accuracy within the epoch\n",
    "    train_loss = 0.0\n",
    "    train_acc = 0.0\n",
    "     \n",
    "    valid_loss = 0.0\n",
    "    valid_acc = 0.0\n",
    " \n",
    "    for i, (inputs, labels) in enumerate(train_loader):\n",
    " \n",
    "        inputs = inputs.to(device)\n",
    "        labels = labels.to(device)\n",
    "         \n",
    "        # Clean existing gradients\n",
    "        optimizer.zero_grad()\n",
    "         \n",
    "        # Forward pass - compute outputs on input data using the model\n",
    "        outputs = model(inputs)\n",
    "         \n",
    "        # Compute loss\n",
    "        #print(outputs)\n",
    "        loss = loss_func(outputs, labels)\n",
    "         \n",
    "        # Backpropagate the gradients\n",
    "        loss.backward()\n",
    "         \n",
    "        # Update the parameters\n",
    "        optimizer.step()\n",
    "         \n",
    "        # Compute the total loss for the batch and add it to train_loss\n",
    "        train_loss += loss.item() * inputs.size(0)\n",
    "         \n",
    "        # Compute the accuracy\n",
    "        ret, predictions = torch.max(outputs.data, 1)\n",
    "        correct_counts = predictions.eq(labels.data.view_as(predictions))\n",
    "         \n",
    "        # Convert correct_counts to float and then compute the mean\n",
    "        acc = torch.mean(correct_counts.type(torch.FloatTensor))\n",
    "         \n",
    "        # Compute total accuracy in the whole batch and add to train_acc\n",
    "        train_acc += acc.item() * inputs.size(0)\n",
    "         \n",
    "        print(\"Batch number: {:03d}, Training: Loss: {:.8f}, Accuracy: {:.8f}\".format(i, loss.item(), acc.item()))\n",
    "    "
   ]
  },
  {
   "cell_type": "markdown",
   "metadata": {
    "colab_type": "text",
    "id": "IfjzJtGzRCel"
   },
   "source": [
    "<h2> Create checkpoint for our Model </h2>"
   ]
  },
  {
   "cell_type": "code",
   "execution_count": 37,
   "metadata": {
    "colab": {
     "base_uri": "https://localhost:8080/",
     "height": 1000
    },
    "colab_type": "code",
    "id": "bm2aBCYh808s",
    "outputId": "70b8e11a-4049-4245-d086-389889574396"
   },
   "outputs": [
    {
     "data": {
      "text/plain": [
       "ResNet(\n",
       "  (conv1): Conv2d(3, 64, kernel_size=(7, 7), stride=(2, 2), padding=(3, 3), bias=False)\n",
       "  (bn1): BatchNorm2d(64, eps=1e-05, momentum=0.1, affine=True, track_running_stats=True)\n",
       "  (relu): ReLU(inplace=True)\n",
       "  (maxpool): MaxPool2d(kernel_size=3, stride=2, padding=1, dilation=1, ceil_mode=False)\n",
       "  (layer1): Sequential(\n",
       "    (0): Bottleneck(\n",
       "      (conv1): Conv2d(64, 64, kernel_size=(1, 1), stride=(1, 1), bias=False)\n",
       "      (bn1): BatchNorm2d(64, eps=1e-05, momentum=0.1, affine=True, track_running_stats=True)\n",
       "      (conv2): Conv2d(64, 64, kernel_size=(3, 3), stride=(1, 1), padding=(1, 1), bias=False)\n",
       "      (bn2): BatchNorm2d(64, eps=1e-05, momentum=0.1, affine=True, track_running_stats=True)\n",
       "      (conv3): Conv2d(64, 256, kernel_size=(1, 1), stride=(1, 1), bias=False)\n",
       "      (bn3): BatchNorm2d(256, eps=1e-05, momentum=0.1, affine=True, track_running_stats=True)\n",
       "      (relu): ReLU(inplace=True)\n",
       "      (downsample): Sequential(\n",
       "        (0): Conv2d(64, 256, kernel_size=(1, 1), stride=(1, 1), bias=False)\n",
       "        (1): BatchNorm2d(256, eps=1e-05, momentum=0.1, affine=True, track_running_stats=True)\n",
       "      )\n",
       "    )\n",
       "    (1): Bottleneck(\n",
       "      (conv1): Conv2d(256, 64, kernel_size=(1, 1), stride=(1, 1), bias=False)\n",
       "      (bn1): BatchNorm2d(64, eps=1e-05, momentum=0.1, affine=True, track_running_stats=True)\n",
       "      (conv2): Conv2d(64, 64, kernel_size=(3, 3), stride=(1, 1), padding=(1, 1), bias=False)\n",
       "      (bn2): BatchNorm2d(64, eps=1e-05, momentum=0.1, affine=True, track_running_stats=True)\n",
       "      (conv3): Conv2d(64, 256, kernel_size=(1, 1), stride=(1, 1), bias=False)\n",
       "      (bn3): BatchNorm2d(256, eps=1e-05, momentum=0.1, affine=True, track_running_stats=True)\n",
       "      (relu): ReLU(inplace=True)\n",
       "    )\n",
       "    (2): Bottleneck(\n",
       "      (conv1): Conv2d(256, 64, kernel_size=(1, 1), stride=(1, 1), bias=False)\n",
       "      (bn1): BatchNorm2d(64, eps=1e-05, momentum=0.1, affine=True, track_running_stats=True)\n",
       "      (conv2): Conv2d(64, 64, kernel_size=(3, 3), stride=(1, 1), padding=(1, 1), bias=False)\n",
       "      (bn2): BatchNorm2d(64, eps=1e-05, momentum=0.1, affine=True, track_running_stats=True)\n",
       "      (conv3): Conv2d(64, 256, kernel_size=(1, 1), stride=(1, 1), bias=False)\n",
       "      (bn3): BatchNorm2d(256, eps=1e-05, momentum=0.1, affine=True, track_running_stats=True)\n",
       "      (relu): ReLU(inplace=True)\n",
       "    )\n",
       "  )\n",
       "  (layer2): Sequential(\n",
       "    (0): Bottleneck(\n",
       "      (conv1): Conv2d(256, 128, kernel_size=(1, 1), stride=(1, 1), bias=False)\n",
       "      (bn1): BatchNorm2d(128, eps=1e-05, momentum=0.1, affine=True, track_running_stats=True)\n",
       "      (conv2): Conv2d(128, 128, kernel_size=(3, 3), stride=(2, 2), padding=(1, 1), bias=False)\n",
       "      (bn2): BatchNorm2d(128, eps=1e-05, momentum=0.1, affine=True, track_running_stats=True)\n",
       "      (conv3): Conv2d(128, 512, kernel_size=(1, 1), stride=(1, 1), bias=False)\n",
       "      (bn3): BatchNorm2d(512, eps=1e-05, momentum=0.1, affine=True, track_running_stats=True)\n",
       "      (relu): ReLU(inplace=True)\n",
       "      (downsample): Sequential(\n",
       "        (0): Conv2d(256, 512, kernel_size=(1, 1), stride=(2, 2), bias=False)\n",
       "        (1): BatchNorm2d(512, eps=1e-05, momentum=0.1, affine=True, track_running_stats=True)\n",
       "      )\n",
       "    )\n",
       "    (1): Bottleneck(\n",
       "      (conv1): Conv2d(512, 128, kernel_size=(1, 1), stride=(1, 1), bias=False)\n",
       "      (bn1): BatchNorm2d(128, eps=1e-05, momentum=0.1, affine=True, track_running_stats=True)\n",
       "      (conv2): Conv2d(128, 128, kernel_size=(3, 3), stride=(1, 1), padding=(1, 1), bias=False)\n",
       "      (bn2): BatchNorm2d(128, eps=1e-05, momentum=0.1, affine=True, track_running_stats=True)\n",
       "      (conv3): Conv2d(128, 512, kernel_size=(1, 1), stride=(1, 1), bias=False)\n",
       "      (bn3): BatchNorm2d(512, eps=1e-05, momentum=0.1, affine=True, track_running_stats=True)\n",
       "      (relu): ReLU(inplace=True)\n",
       "    )\n",
       "    (2): Bottleneck(\n",
       "      (conv1): Conv2d(512, 128, kernel_size=(1, 1), stride=(1, 1), bias=False)\n",
       "      (bn1): BatchNorm2d(128, eps=1e-05, momentum=0.1, affine=True, track_running_stats=True)\n",
       "      (conv2): Conv2d(128, 128, kernel_size=(3, 3), stride=(1, 1), padding=(1, 1), bias=False)\n",
       "      (bn2): BatchNorm2d(128, eps=1e-05, momentum=0.1, affine=True, track_running_stats=True)\n",
       "      (conv3): Conv2d(128, 512, kernel_size=(1, 1), stride=(1, 1), bias=False)\n",
       "      (bn3): BatchNorm2d(512, eps=1e-05, momentum=0.1, affine=True, track_running_stats=True)\n",
       "      (relu): ReLU(inplace=True)\n",
       "    )\n",
       "    (3): Bottleneck(\n",
       "      (conv1): Conv2d(512, 128, kernel_size=(1, 1), stride=(1, 1), bias=False)\n",
       "      (bn1): BatchNorm2d(128, eps=1e-05, momentum=0.1, affine=True, track_running_stats=True)\n",
       "      (conv2): Conv2d(128, 128, kernel_size=(3, 3), stride=(1, 1), padding=(1, 1), bias=False)\n",
       "      (bn2): BatchNorm2d(128, eps=1e-05, momentum=0.1, affine=True, track_running_stats=True)\n",
       "      (conv3): Conv2d(128, 512, kernel_size=(1, 1), stride=(1, 1), bias=False)\n",
       "      (bn3): BatchNorm2d(512, eps=1e-05, momentum=0.1, affine=True, track_running_stats=True)\n",
       "      (relu): ReLU(inplace=True)\n",
       "    )\n",
       "  )\n",
       "  (layer3): Sequential(\n",
       "    (0): Bottleneck(\n",
       "      (conv1): Conv2d(512, 256, kernel_size=(1, 1), stride=(1, 1), bias=False)\n",
       "      (bn1): BatchNorm2d(256, eps=1e-05, momentum=0.1, affine=True, track_running_stats=True)\n",
       "      (conv2): Conv2d(256, 256, kernel_size=(3, 3), stride=(2, 2), padding=(1, 1), bias=False)\n",
       "      (bn2): BatchNorm2d(256, eps=1e-05, momentum=0.1, affine=True, track_running_stats=True)\n",
       "      (conv3): Conv2d(256, 1024, kernel_size=(1, 1), stride=(1, 1), bias=False)\n",
       "      (bn3): BatchNorm2d(1024, eps=1e-05, momentum=0.1, affine=True, track_running_stats=True)\n",
       "      (relu): ReLU(inplace=True)\n",
       "      (downsample): Sequential(\n",
       "        (0): Conv2d(512, 1024, kernel_size=(1, 1), stride=(2, 2), bias=False)\n",
       "        (1): BatchNorm2d(1024, eps=1e-05, momentum=0.1, affine=True, track_running_stats=True)\n",
       "      )\n",
       "    )\n",
       "    (1): Bottleneck(\n",
       "      (conv1): Conv2d(1024, 256, kernel_size=(1, 1), stride=(1, 1), bias=False)\n",
       "      (bn1): BatchNorm2d(256, eps=1e-05, momentum=0.1, affine=True, track_running_stats=True)\n",
       "      (conv2): Conv2d(256, 256, kernel_size=(3, 3), stride=(1, 1), padding=(1, 1), bias=False)\n",
       "      (bn2): BatchNorm2d(256, eps=1e-05, momentum=0.1, affine=True, track_running_stats=True)\n",
       "      (conv3): Conv2d(256, 1024, kernel_size=(1, 1), stride=(1, 1), bias=False)\n",
       "      (bn3): BatchNorm2d(1024, eps=1e-05, momentum=0.1, affine=True, track_running_stats=True)\n",
       "      (relu): ReLU(inplace=True)\n",
       "    )\n",
       "    (2): Bottleneck(\n",
       "      (conv1): Conv2d(1024, 256, kernel_size=(1, 1), stride=(1, 1), bias=False)\n",
       "      (bn1): BatchNorm2d(256, eps=1e-05, momentum=0.1, affine=True, track_running_stats=True)\n",
       "      (conv2): Conv2d(256, 256, kernel_size=(3, 3), stride=(1, 1), padding=(1, 1), bias=False)\n",
       "      (bn2): BatchNorm2d(256, eps=1e-05, momentum=0.1, affine=True, track_running_stats=True)\n",
       "      (conv3): Conv2d(256, 1024, kernel_size=(1, 1), stride=(1, 1), bias=False)\n",
       "      (bn3): BatchNorm2d(1024, eps=1e-05, momentum=0.1, affine=True, track_running_stats=True)\n",
       "      (relu): ReLU(inplace=True)\n",
       "    )\n",
       "    (3): Bottleneck(\n",
       "      (conv1): Conv2d(1024, 256, kernel_size=(1, 1), stride=(1, 1), bias=False)\n",
       "      (bn1): BatchNorm2d(256, eps=1e-05, momentum=0.1, affine=True, track_running_stats=True)\n",
       "      (conv2): Conv2d(256, 256, kernel_size=(3, 3), stride=(1, 1), padding=(1, 1), bias=False)\n",
       "      (bn2): BatchNorm2d(256, eps=1e-05, momentum=0.1, affine=True, track_running_stats=True)\n",
       "      (conv3): Conv2d(256, 1024, kernel_size=(1, 1), stride=(1, 1), bias=False)\n",
       "      (bn3): BatchNorm2d(1024, eps=1e-05, momentum=0.1, affine=True, track_running_stats=True)\n",
       "      (relu): ReLU(inplace=True)\n",
       "    )\n",
       "    (4): Bottleneck(\n",
       "      (conv1): Conv2d(1024, 256, kernel_size=(1, 1), stride=(1, 1), bias=False)\n",
       "      (bn1): BatchNorm2d(256, eps=1e-05, momentum=0.1, affine=True, track_running_stats=True)\n",
       "      (conv2): Conv2d(256, 256, kernel_size=(3, 3), stride=(1, 1), padding=(1, 1), bias=False)\n",
       "      (bn2): BatchNorm2d(256, eps=1e-05, momentum=0.1, affine=True, track_running_stats=True)\n",
       "      (conv3): Conv2d(256, 1024, kernel_size=(1, 1), stride=(1, 1), bias=False)\n",
       "      (bn3): BatchNorm2d(1024, eps=1e-05, momentum=0.1, affine=True, track_running_stats=True)\n",
       "      (relu): ReLU(inplace=True)\n",
       "    )\n",
       "    (5): Bottleneck(\n",
       "      (conv1): Conv2d(1024, 256, kernel_size=(1, 1), stride=(1, 1), bias=False)\n",
       "      (bn1): BatchNorm2d(256, eps=1e-05, momentum=0.1, affine=True, track_running_stats=True)\n",
       "      (conv2): Conv2d(256, 256, kernel_size=(3, 3), stride=(1, 1), padding=(1, 1), bias=False)\n",
       "      (bn2): BatchNorm2d(256, eps=1e-05, momentum=0.1, affine=True, track_running_stats=True)\n",
       "      (conv3): Conv2d(256, 1024, kernel_size=(1, 1), stride=(1, 1), bias=False)\n",
       "      (bn3): BatchNorm2d(1024, eps=1e-05, momentum=0.1, affine=True, track_running_stats=True)\n",
       "      (relu): ReLU(inplace=True)\n",
       "    )\n",
       "  )\n",
       "  (layer4): Sequential(\n",
       "    (0): Bottleneck(\n",
       "      (conv1): Conv2d(1024, 512, kernel_size=(1, 1), stride=(1, 1), bias=False)\n",
       "      (bn1): BatchNorm2d(512, eps=1e-05, momentum=0.1, affine=True, track_running_stats=True)\n",
       "      (conv2): Conv2d(512, 512, kernel_size=(3, 3), stride=(2, 2), padding=(1, 1), bias=False)\n",
       "      (bn2): BatchNorm2d(512, eps=1e-05, momentum=0.1, affine=True, track_running_stats=True)\n",
       "      (conv3): Conv2d(512, 2048, kernel_size=(1, 1), stride=(1, 1), bias=False)\n",
       "      (bn3): BatchNorm2d(2048, eps=1e-05, momentum=0.1, affine=True, track_running_stats=True)\n",
       "      (relu): ReLU(inplace=True)\n",
       "      (downsample): Sequential(\n",
       "        (0): Conv2d(1024, 2048, kernel_size=(1, 1), stride=(2, 2), bias=False)\n",
       "        (1): BatchNorm2d(2048, eps=1e-05, momentum=0.1, affine=True, track_running_stats=True)\n",
       "      )\n",
       "    )\n",
       "    (1): Bottleneck(\n",
       "      (conv1): Conv2d(2048, 512, kernel_size=(1, 1), stride=(1, 1), bias=False)\n",
       "      (bn1): BatchNorm2d(512, eps=1e-05, momentum=0.1, affine=True, track_running_stats=True)\n",
       "      (conv2): Conv2d(512, 512, kernel_size=(3, 3), stride=(1, 1), padding=(1, 1), bias=False)\n",
       "      (bn2): BatchNorm2d(512, eps=1e-05, momentum=0.1, affine=True, track_running_stats=True)\n",
       "      (conv3): Conv2d(512, 2048, kernel_size=(1, 1), stride=(1, 1), bias=False)\n",
       "      (bn3): BatchNorm2d(2048, eps=1e-05, momentum=0.1, affine=True, track_running_stats=True)\n",
       "      (relu): ReLU(inplace=True)\n",
       "    )\n",
       "    (2): Bottleneck(\n",
       "      (conv1): Conv2d(2048, 512, kernel_size=(1, 1), stride=(1, 1), bias=False)\n",
       "      (bn1): BatchNorm2d(512, eps=1e-05, momentum=0.1, affine=True, track_running_stats=True)\n",
       "      (conv2): Conv2d(512, 512, kernel_size=(3, 3), stride=(1, 1), padding=(1, 1), bias=False)\n",
       "      (bn2): BatchNorm2d(512, eps=1e-05, momentum=0.1, affine=True, track_running_stats=True)\n",
       "      (conv3): Conv2d(512, 2048, kernel_size=(1, 1), stride=(1, 1), bias=False)\n",
       "      (bn3): BatchNorm2d(2048, eps=1e-05, momentum=0.1, affine=True, track_running_stats=True)\n",
       "      (relu): ReLU(inplace=True)\n",
       "    )\n",
       "  )\n",
       "  (avgpool): AdaptiveAvgPool2d(output_size=(1, 1))\n",
       "  (fc): Sequential(\n",
       "    (0): Linear(in_features=2048, out_features=128, bias=True)\n",
       "    (1): ReLU(inplace=True)\n",
       "    (2): Dropout(p=0.5, inplace=False)\n",
       "    (3): Linear(in_features=128, out_features=2, bias=True)\n",
       "    (4): LogSoftmax(dim=1)\n",
       "  )\n",
       ")"
      ]
     },
     "execution_count": 37,
     "metadata": {},
     "output_type": "execute_result"
    }
   ],
   "source": [
    "\n",
    "torch.save(model.state_dict(),'model.pt')\n",
    "model.load_state_dict(torch.load('./model.pt'))\n",
    "m=model.eval()\n",
    "m"
   ]
  },
  {
   "cell_type": "markdown",
   "metadata": {
    "colab_type": "text",
    "id": "pNHDkr5XtERk"
   },
   "source": [
    "<H2>Validation<h2>"
   ]
  },
  {
   "cell_type": "code",
   "execution_count": null,
   "metadata": {
    "colab": {},
    "colab_type": "code",
    "id": "xqt9ehJXNMcn"
   },
   "outputs": [],
   "source": [
    "\n",
    "history=[]\n",
    "with torch.no_grad():\n",
    " \n",
    "    # Set to evaluation mode\n",
    "    m.eval()\n",
    " \n",
    "    # Validation loop\n",
    "    for j, (inputs, labels) in enumerate(validation_loader):\n",
    "        inputs = inputs.to(device)\n",
    "        labels = labels.to(device)\n",
    " \n",
    "        # Forward pass - compute outputs on input data using the model\n",
    "        outputs = m(inputs)\n",
    " \n",
    "        # Compute loss\n",
    "        loss = loss_func(outputs, labels)\n",
    " \n",
    "        # Compute the total loss for the batch and add it to valid_loss\n",
    "        valid_loss += loss.item() * inputs.size(0)\n",
    " \n",
    "        # Calculate validation accuracy\n",
    "        ret, predictions = torch.max(outputs.data, 1)\n",
    "        correct_counts = predictions.eq(labels.data.view_as(predictions))\n",
    " \n",
    "        # Convert correct_counts to float and then compute the mean\n",
    "        acc = torch.mean(correct_counts.type(torch.FloatTensor))\n",
    " \n",
    "        # Compute total accuracy in the whole batch and add to valid_acc\n",
    "        valid_acc += acc.item() * inputs.size(0)\n",
    " \n",
    "        print(\"Validation Batch number: {:03d}, Validation: Loss: {:.4f}, Accuracy: {:.4f}\".format(j, loss.item(), acc.item()))\n",
    "     \n",
    "# Find average training loss and training accuracy\n",
    "avg_train_loss = train_loss/len(train_indices)\n",
    "avg_train_acc = train_acc/float(len(train_indices))\n",
    " \n",
    "# Find average training loss and training accuracy\n",
    "avg_valid_loss = valid_loss/len(val_indices)\n",
    "avg_valid_acc = valid_acc/float(len(val_indices))\n",
    " \n",
    "history.append([avg_train_loss, avg_valid_loss, avg_train_acc, avg_valid_acc])\n",
    "         \n",
    "epoch_end = time.time()\n",
    " \n",
    "print(\"Epoch : {:03d}, Training: Loss: {:.8f}, Accuracy: {:.8f}%, \\n\\t\\tValidation : Loss : {:.8f}, Accuracy: {:.8f}%, Time: {:.8f}s\".format(epoch, avg_train_loss, avg_train_acc*100, avg_valid_loss, avg_valid_acc*100, epoch_end-epoch_start))"
   ]
  },
  {
   "cell_type": "markdown",
   "metadata": {
    "colab_type": "text",
    "id": "NFQ3BlkPN0LL"
   },
   "source": [
    "<h2>Test<h2>"
   ]
  },
  {
   "cell_type": "code",
   "execution_count": 39,
   "metadata": {
    "colab": {},
    "colab_type": "code",
    "id": "P5cNDzVUM3ck"
   },
   "outputs": [],
   "source": [
    "\n",
    "test_img=[]\n",
    "for img in sub['image'] :\n",
    "      img_path=\"./images/\"+str(img)\n",
    "      test_image = Image.open(img_path).convert('RGB')\n",
    "      \n",
    "      test_image_tensor = image_transform(test_image)\n",
    "      if torch.cuda.is_available():\n",
    "            test_image_tensor = test_image_tensor.view(1, 3, 224, 224).cuda()\n",
    "      else:\n",
    "            test_image_tensor = test_image_tensor.view(1, 3, 224, 224)\n",
    "\n",
    "      #test_image_tensor = test_image_tensor.view(1, 3, 224, 224)\n",
    "      with torch.no_grad():\n",
    "      m.eval()\n",
    "      out=m(test_image_tensor)\n",
    "      ps = torch.exp(out)\n",
    "      topk, topclass = ps.topk(1, dim=1,)\n",
    "      sub.loc[sub['image']==img,'target']=float(ps[0][1])\n"
   ]
  },
  {
   "cell_type": "code",
   "execution_count": 40,
   "metadata": {
    "colab": {},
    "colab_type": "code",
    "id": "3ewyyWR1gLyV"
   },
   "outputs": [
    {
     "data": {
      "text/html": [
       "<div>\n",
       "<style scoped>\n",
       "    .dataframe tbody tr th:only-of-type {\n",
       "        vertical-align: middle;\n",
       "    }\n",
       "\n",
       "    .dataframe tbody tr th {\n",
       "        vertical-align: top;\n",
       "    }\n",
       "\n",
       "    .dataframe thead th {\n",
       "        text-align: right;\n",
       "    }\n",
       "</style>\n",
       "<table border=\"1\" class=\"dataframe\">\n",
       "  <thead>\n",
       "    <tr style=\"text-align: right;\">\n",
       "      <th></th>\n",
       "      <th>image</th>\n",
       "      <th>target</th>\n",
       "    </tr>\n",
       "  </thead>\n",
       "  <tbody>\n",
       "    <tr>\n",
       "      <th>0</th>\n",
       "      <td>versewmzeguanbftslpjlyrupgqobt.jpg</td>\n",
       "      <td>0.000059</td>\n",
       "    </tr>\n",
       "    <tr>\n",
       "      <th>1</th>\n",
       "      <td>xxirvsjxpsdmicscgrmpcczbnrtoek.jpg</td>\n",
       "      <td>0.000032</td>\n",
       "    </tr>\n",
       "    <tr>\n",
       "      <th>2</th>\n",
       "      <td>pomnzkamhxjwtrgalmkbcevrqlijft.jpg</td>\n",
       "      <td>0.000271</td>\n",
       "    </tr>\n",
       "    <tr>\n",
       "      <th>3</th>\n",
       "      <td>imkumwldsvcwkjbhwglebnqtgjuaqy.jpg</td>\n",
       "      <td>0.999708</td>\n",
       "    </tr>\n",
       "    <tr>\n",
       "      <th>4</th>\n",
       "      <td>aelkivmayxgsdjosiibfgmkvfrjvjk.jpg</td>\n",
       "      <td>0.999848</td>\n",
       "    </tr>\n",
       "  </tbody>\n",
       "</table>\n",
       "</div>"
      ],
      "text/plain": [
       "                                image    target\n",
       "0  versewmzeguanbftslpjlyrupgqobt.jpg  0.000059\n",
       "1  xxirvsjxpsdmicscgrmpcczbnrtoek.jpg  0.000032\n",
       "2  pomnzkamhxjwtrgalmkbcevrqlijft.jpg  0.000271\n",
       "3  imkumwldsvcwkjbhwglebnqtgjuaqy.jpg  0.999708\n",
       "4  aelkivmayxgsdjosiibfgmkvfrjvjk.jpg  0.999848"
      ]
     },
     "execution_count": 40,
     "metadata": {},
     "output_type": "execute_result"
    }
   ],
   "source": [
    "sub.head()"
   ]
  },
  {
   "cell_type": "markdown",
   "metadata": {
    "colab_type": "text",
    "id": "_0HIWwL4QGB9"
   },
   "source": [
    "<h2>Dispaly images<h2>"
   ]
  },
  {
   "cell_type": "code",
   "execution_count": null,
   "metadata": {
    "colab": {},
    "colab_type": "code",
    "id": "CaFGwp2iREvd"
   },
   "outputs": [],
   "source": [
    "\n",
    "\n",
    "show=sub\n",
    "nrow = show.shape[0]\n",
    "ncol = 1\n",
    "\n",
    "fig = plt.figure(figsize=(4, 10)) \n",
    "\n",
    "gs = gridspec.GridSpec(nrow, ncol,\n",
    "         wspace=0.0, hspace=0.0, top=0.95, bottom=0.05, left=0.17, right=0.845) \n",
    "\n",
    "\n",
    "for num, x in enumerate(show.image):\n",
    "        img_path=\"./images/\"+str(x)\n",
    "        im= PIL.Image.open(img_path).convert('RGB')\n",
    "        ax= plt.subplot(gs[num,0])\n",
    "        fig = plt.figure()\n",
    "        fig.set_size_inches(150,150)\n",
    "        ax.imshow(im)\n",
    "        ax.set_xticklabels([])\n",
    "        ax.set_yticklabels([])\n",
    "\n",
    "plt.show()"
   ]
  },
  {
   "cell_type": "markdown",
   "metadata": {
    "colab_type": "text",
    "id": "8o0HTXz_QRII"
   },
   "source": [
    "<h2>Create CSV File<h2>"
   ]
  },
  {
   "cell_type": "code",
   "execution_count": 42,
   "metadata": {
    "colab": {},
    "colab_type": "code",
    "id": "YrHzu7AnTY_Z"
   },
   "outputs": [
    {
     "data": {
      "text/html": [
       "<div>\n",
       "<style scoped>\n",
       "    .dataframe tbody tr th:only-of-type {\n",
       "        vertical-align: middle;\n",
       "    }\n",
       "\n",
       "    .dataframe tbody tr th {\n",
       "        vertical-align: top;\n",
       "    }\n",
       "\n",
       "    .dataframe thead th {\n",
       "        text-align: right;\n",
       "    }\n",
       "</style>\n",
       "<table border=\"1\" class=\"dataframe\">\n",
       "  <thead>\n",
       "    <tr style=\"text-align: right;\">\n",
       "      <th></th>\n",
       "      <th>image</th>\n",
       "      <th>target</th>\n",
       "    </tr>\n",
       "  </thead>\n",
       "  <tbody>\n",
       "    <tr>\n",
       "      <th>0</th>\n",
       "      <td>versewmzeguanbftslpjlyrupgqobt.jpg</td>\n",
       "      <td>0.000059</td>\n",
       "    </tr>\n",
       "    <tr>\n",
       "      <th>1</th>\n",
       "      <td>xxirvsjxpsdmicscgrmpcczbnrtoek.jpg</td>\n",
       "      <td>0.000032</td>\n",
       "    </tr>\n",
       "    <tr>\n",
       "      <th>2</th>\n",
       "      <td>pomnzkamhxjwtrgalmkbcevrqlijft.jpg</td>\n",
       "      <td>0.000271</td>\n",
       "    </tr>\n",
       "    <tr>\n",
       "      <th>3</th>\n",
       "      <td>imkumwldsvcwkjbhwglebnqtgjuaqy.jpg</td>\n",
       "      <td>0.999708</td>\n",
       "    </tr>\n",
       "    <tr>\n",
       "      <th>4</th>\n",
       "      <td>aelkivmayxgsdjosiibfgmkvfrjvjk.jpg</td>\n",
       "      <td>0.999848</td>\n",
       "    </tr>\n",
       "    <tr>\n",
       "      <th>...</th>\n",
       "      <td>...</td>\n",
       "      <td>...</td>\n",
       "    </tr>\n",
       "    <tr>\n",
       "      <th>504</th>\n",
       "      <td>egmlopponygomfuzzhzoextlxzgkmo.jpg</td>\n",
       "      <td>0.000169</td>\n",
       "    </tr>\n",
       "    <tr>\n",
       "      <th>505</th>\n",
       "      <td>tmthqtrdrzwgadmsftvwpwlssemeic.jpg</td>\n",
       "      <td>0.000021</td>\n",
       "    </tr>\n",
       "    <tr>\n",
       "      <th>506</th>\n",
       "      <td>aljnaycepveqbedxhsklixyjodpcho.jpg</td>\n",
       "      <td>0.000261</td>\n",
       "    </tr>\n",
       "    <tr>\n",
       "      <th>507</th>\n",
       "      <td>ufjcnzoabfdevufathmxztkvmlfgmd.jpg</td>\n",
       "      <td>0.999969</td>\n",
       "    </tr>\n",
       "    <tr>\n",
       "      <th>508</th>\n",
       "      <td>kkgjefxvtjfypjsjgyhshrutwhgdml.jpg</td>\n",
       "      <td>0.998817</td>\n",
       "    </tr>\n",
       "  </tbody>\n",
       "</table>\n",
       "<p>509 rows × 2 columns</p>\n",
       "</div>"
      ],
      "text/plain": [
       "                                  image    target\n",
       "0    versewmzeguanbftslpjlyrupgqobt.jpg  0.000059\n",
       "1    xxirvsjxpsdmicscgrmpcczbnrtoek.jpg  0.000032\n",
       "2    pomnzkamhxjwtrgalmkbcevrqlijft.jpg  0.000271\n",
       "3    imkumwldsvcwkjbhwglebnqtgjuaqy.jpg  0.999708\n",
       "4    aelkivmayxgsdjosiibfgmkvfrjvjk.jpg  0.999848\n",
       "..                                  ...       ...\n",
       "504  egmlopponygomfuzzhzoextlxzgkmo.jpg  0.000169\n",
       "505  tmthqtrdrzwgadmsftvwpwlssemeic.jpg  0.000021\n",
       "506  aljnaycepveqbedxhsklixyjodpcho.jpg  0.000261\n",
       "507  ufjcnzoabfdevufathmxztkvmlfgmd.jpg  0.999969\n",
       "508  kkgjefxvtjfypjsjgyhshrutwhgdml.jpg  0.998817\n",
       "\n",
       "[509 rows x 2 columns]"
      ]
     },
     "execution_count": 42,
     "metadata": {},
     "output_type": "execute_result"
    }
   ],
   "source": [
    "# we can round prediction to improve score to 0.009 and , without them score=0.014\n",
    "#sub.target=np.where(sub.target<0.18,0,sub.target)\n",
    "#sub.target=np.where(sub.target>0.6,1,sub.target)\n",
    "sub.to_csv('./FinalSub.csv',index=False)\n",
    "sub"
   ]
  },
  {
   "cell_type": "code",
   "execution_count": null,
   "metadata": {},
   "outputs": [],
   "source": []
  }
 ],
 "metadata": {
  "accelerator": "GPU",
  "colab": {
   "collapsed_sections": [],
   "name": "Spot the Mask Challenge by #ZindiWeekendz_Notebook.ipynb",
   "provenance": []
  },
  "kernelspec": {
   "display_name": "Python 3 (ipykernel)",
   "language": "python",
   "name": "python3"
  },
  "language_info": {
   "codemirror_mode": {
    "name": "ipython",
    "version": 3
   },
   "file_extension": ".py",
   "mimetype": "text/x-python",
   "name": "python",
   "nbconvert_exporter": "python",
   "pygments_lexer": "ipython3",
   "version": "3.11.2"
  }
 },
 "nbformat": 4,
 "nbformat_minor": 1
}
